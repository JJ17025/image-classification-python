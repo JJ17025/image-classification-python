{
 "cells": [
  {
   "cell_type": "code",
   "execution_count": 2,
   "id": "1b94606f-8ee9-48c6-b90a-771bb7423063",
   "metadata": {},
   "outputs": [],
   "source": [
    "import glob\n",
    "import os\n",
    "from pathlib import Path\n",
    "\n",
    "import cv2\n",
    "import numpy as np\n",
    "import pandas as pd\n",
    "from PIL import Image\n",
    "from keras.applications.vgg16 import VGG16, preprocess_input\n",
    "from keras.models import Sequential, Model, load_model\n",
    "from keras.preprocessing.image import ImageDataGenerator  # , load_img, img_to_array\n",
    "from keras.layers import Conv2D, MaxPooling2D, Dense, Dropout, Input, Flatten, Activation\n",
    "from keras.optimizers import Adam, SGD, RMSprop\n",
    "from keras.utils import to_categorical\n",
    "from sklearn.metrics import confusion_matrix\n",
    "from keras import backend as K\n",
    "import tensorflow as tf\n",
    "import matplotlib.pyplot as plt\n",
    "import seaborn as sns"
   ]
  },
  {
   "cell_type": "code",
   "execution_count": 25,
   "id": "ad568c4f-f0e8-4883-826e-d0fe80b8af3e",
   "metadata": {},
   "outputs": [],
   "source": [
    "data_dir = Path('chest_xray/chest_xray/')\n",
    "train_dir = data_dir / 'train/'\n",
    "val_dir = data_dir / 'val'\n",
    "test_dir = data_dir / 'test'"
   ]
  },
  {
   "cell_type": "code",
   "execution_count": 26,
   "id": "aeac43c5-726a-457a-9958-88ef3b1d77eb",
   "metadata": {},
   "outputs": [
    {
     "name": "stdout",
     "output_type": "stream",
     "text": [
      "chest_xray\\chest_xray\\train\n",
      "<class 'pathlib.WindowsPath'>\n"
     ]
    }
   ],
   "source": [
    "train_dir\n",
    "print(train_dir)\n",
    "print(type(train_dir))"
   ]
  },
  {
   "cell_type": "code",
   "execution_count": 3,
   "id": "19e6f076-b2d0-4f9e-b537-f3396d6c6754",
   "metadata": {},
   "outputs": [],
   "source": [
    "def load_train():\n",
    "    normal_cases_dir = train_dir / 'NORMAL'\n",
    "    pneumonia_cases_dir = train_dir / 'PNEUMONIA'\n",
    "\n",
    "    normal_cases = normal_cases_dir.glob('*.jpeg')\n",
    "    pneumonia_cases = pneumonia_cases_dir.glob('*jpeg')\n",
    "    train_data = []\n",
    "    train_label = []\n",
    "    for img in normal_cases:\n",
    "        train_data.append(img)\n",
    "        train_label.append('NORMAL')\n",
    "    for img in pneumonia_cases:\n",
    "        train_data.append(img)\n",
    "        train_label.append('PNEUMONIA')\n",
    "    df = pd.DataFrame(train_data)\n",
    "    df.columns = ['images']\n",
    "    df['labels'] = train_label\n",
    "    df = df.sample(frac=1).reset_index(drop=True)\n",
    "    return df"
   ]
  },
  {
   "cell_type": "code",
   "execution_count": 4,
   "id": "04d0b7d7-1842-4338-9135-f644b3f37f0e",
   "metadata": {},
   "outputs": [
    {
     "name": "stdout",
     "output_type": "stream",
     "text": [
      "(5216, 2)\n"
     ]
    },
    {
     "data": {
      "image/png": "[encoded data removed]",
      "text/plain": [
       "<Figure size 640x480 with 1 Axes>"
      ]
     },
     "metadata": {},
     "output_type": "display_data"
    }
   ],
   "source": [
    "train_data = load_train()\n",
    "print(train_data.shape)\n",
    "\n",
    "plt.bar(train_data['labels'].value_counts().index, train_data['labels'].value_counts().values)\n",
    "plt.show()"
   ]
  },
  {
   "cell_type": "code",
   "execution_count": 5,
   "id": "cdbf9281-5bd7-4609-b5b0-e6cd9c47c9be",
   "metadata": {},
   "outputs": [],
   "source": [
    "def prepare_and_load(isval=True):\n",
    "    if isval == True:\n",
    "        normal_dir = val_dir / 'NORMAL'\n",
    "        pneumonia_dir = val_dir / 'PNEUMONIA'\n",
    "    else:\n",
    "        normal_dir = test_dir / \"NORMAL\"\n",
    "        pneumonia_dir = test_dir / 'PNEUMONIA'\n",
    "\n",
    "    normal_cases = normal_dir.glob('*.jpeg')\n",
    "    pneumonia_cases = pneumonia_dir.glob('*.jpeg')\n",
    "    data, labels = ([] for x in range(2))\n",
    "\n",
    "    def prepare(case):\n",
    "        for img in case:\n",
    "            img = cv2.imread(str(img))\n",
    "            img = cv2.resize(img, (224, 224))\n",
    "            if img.shape[2] == 1:\n",
    "                img = np.dstack([img, img, img])\n",
    "            img = cv2.cvtColor(img, cv2.COLOR_BGR2RGB)\n",
    "            img = img.astype(np.float32) / 255.\n",
    "            if case == normal_cases:\n",
    "                label = to_categorical(0, num_classes=2)\n",
    "            else:\n",
    "                label = to_categorical(1, num_classes=2)\n",
    "            data.append(img)\n",
    "            labels.append(label)\n",
    "        return data, labels\n",
    "\n",
    "    prepare(normal_cases)\n",
    "    d, l = prepare(pneumonia_cases)\n",
    "    d = np.array(d)\n",
    "    l = np.array(l)\n",
    "    return d, l"
   ]
  },
  {
   "cell_type": "code",
   "execution_count": 6,
   "id": "3094d7fc-6c73-40e1-af02-9e786ca28cb9",
   "metadata": {},
   "outputs": [
    {
     "name": "stdout",
     "output_type": "stream",
     "text": [
      "Number of test images --> 624\n",
      "Number of validation images -->  16\n"
     ]
    }
   ],
   "source": [
    "val_data, val_labels = prepare_and_load(isval=True)\n",
    "test_data, test_labels = prepare_and_load(isval=False)\n",
    "print('Number of test images -->', len(test_data))\n",
    "print('Number of validation images --> ', len(val_data))"
   ]
  },
  {
   "cell_type": "code",
   "execution_count": 7,
   "id": "5762d76f-e5fe-4239-a9d7-066eebacb6d1",
   "metadata": {},
   "outputs": [],
   "source": [
    "def data_gen(data, batch_size):\n",
    "    # Get total number of samples in the data\n",
    "    n = len(data)\n",
    "    steps = n // batch_size\n",
    "\n",
    "    # Define two numpy arrays for containing batch data and Labels\n",
    "    batch_data = np.zeros((batch_size, 224, 224, 3), dtype=np.float32)\n",
    "    batch_labels = np.zeros((batch_size, 2), dtype=np.float32)\n",
    "\n",
    "    indices = np.arange(n)\n",
    "\n",
    "    i = 0\n",
    "    while True:\n",
    "        np.random.shuffle(indices)\n",
    "        # Get the next batch\n",
    "        count = 0\n",
    "        next_batch = indices[(i * batch_size):(i + 1) * batch_size]\n",
    "        for j, idx in enumerate(next_batch):\n",
    "            img_name = data.iloc[idx]['images']\n",
    "            label = data.iloc[idx]['labels']\n",
    "            if label == 'NORMAL':\n",
    "                label = 0\n",
    "            else:\n",
    "                label = 1\n",
    "            # one hot encoding\n",
    "            encoded_label = to_categorical(label, num_classes=2)\n",
    "\n",
    "            img = cv2.imread(str(img_name))\n",
    "            img = cv2.resize(img, (224, 224))\n",
    "\n",
    "            # check if it's grayscale\n",
    "            if img.shape[2] == 1:\n",
    "                img = np.dstack([img, img, img])\n",
    "\n",
    "            orig_img = cv2.cvtColor(img, cv2.COLOR_BGR2RGB)\n",
    "            orig_img = img.astype(np.float32) / 255.\n",
    "\n",
    "            batch_data[count] = orig_img\n",
    "            batch_labels[count] = encoded_label\n",
    "\n",
    "            count += 1\n",
    "            if count == batch_size - 1:\n",
    "                break\n",
    "        i += 1\n",
    "        yield batch_data, batch_labels\n",
    "        if i >= steps:\n",
    "            i = 0"
   ]
  },
  {
   "cell_type": "code",
   "execution_count": 8,
   "id": "f1a3b705-b50b-49b2-8e16-543503a2d0bc",
   "metadata": {},
   "outputs": [],
   "source": [
    "model = Sequential()\n",
    "model.add(Conv2D(32, (3, 3), input_shape=(224, 224, 3)))\n",
    "model.add(Activation('relu'))\n",
    "model.add(MaxPooling2D(pool_size=(2, 2)))\n",
    "\n",
    "model.add(Conv2D(32, (3, 3)))\n",
    "model.add(Activation('relu'))\n",
    "model.add(MaxPooling2D(pool_size=(2, 2)))\n",
    "\n",
    "model.add(Conv2D(64, (3, 3)))\n",
    "model.add(Activation('relu'))\n",
    "model.add(MaxPooling2D(pool_size=(2, 2)))\n",
    "\n",
    "model.add(Flatten())  ############\n",
    "\n",
    "model.add(Dense(64))\n",
    "model.add(Activation('relu'))\n",
    "model.add(Dense(2))\n",
    "model.add(Activation('softmax'))"
   ]
  },
  {
   "cell_type": "code",
   "execution_count": 9,
   "id": "db7ac576-5df9-48e9-8a0a-3b370ed1eeb8",
   "metadata": {},
   "outputs": [],
   "source": [
    "batch_size = 16\n",
    "nb_epochs = 3"
   ]
  },
  {
   "cell_type": "code",
   "execution_count": 10,
   "id": "44ff7693-ecbb-411e-974d-9942a23454b4",
   "metadata": {},
   "outputs": [],
   "source": [
    "train_data_gen = data_gen(data=train_data, batch_size=batch_size)"
   ]
  },
  {
   "cell_type": "code",
   "execution_count": 11,
   "id": "b1227021-2a29-4264-9cb0-0665833cd0d7",
   "metadata": {},
   "outputs": [
    {
     "name": "stdout",
     "output_type": "stream",
     "text": [
      "326 and 16\n"
     ]
    }
   ],
   "source": [
    "nb_train_steps = train_data.shape[0] // batch_size\n",
    "print('{} and {}'.format(nb_train_steps, len(val_data)))"
   ]
  },
  {
   "cell_type": "code",
   "execution_count": 12,
   "id": "a76c4925-b9e0-4ff1-9bc6-ec7d5588ec87",
   "metadata": {},
   "outputs": [],
   "source": [
    "def vgg16_model(num_classes=None):\n",
    "    model = VGG16(weights='imagenet', include_top=True, input_shape=(224, 224, 3))\n",
    "    x = Dense(1024, activation='relu')(model.layers[-4].output)\n",
    "    x = Dropout(0.7)(x)\n",
    "    x = Dense(512, activation='relu')(x)\n",
    "    x = Dropout(0.5)(x)\n",
    "    x = Dense(2, activation='softmax')(x)\n",
    "    model = Model(model.input, x)\n",
    "\n",
    "    return model"
   ]
  },
  {
   "cell_type": "code",
   "execution_count": 13,
   "id": "d821fa3b-54aa-4193-9022-5bfdfe5a24a1",
   "metadata": {},
   "outputs": [
    {
     "name": "stderr",
     "output_type": "stream",
     "text": [
      "C:\\Users\\J_PC_vol2\\PycharmProjects\\scikit-learn\\venv\\lib\\site-packages\\keras\\optimizers\\optimizer_v2\\adam.py:117: UserWarning: The `lr` argument is deprecated, use `learning_rate` instead.\n",
      "  super().__init__(name, **kwargs)\n",
      "C:\\Users\\J_PC_vol2\\AppData\\Local\\Temp\\ipykernel_10984\\106692415.py:8: UserWarning: `Model.fit_generator` is deprecated and will be removed in a future version. Please use `Model.fit`, which supports generators.\n",
      "  history = vgg_conv.fit_generator(train_data_gen,\n"
     ]
    },
    {
     "name": "stdout",
     "output_type": "stream",
     "text": [
      "Epoch 1/3\n",
      "326/326 [==============================] - 1949s 6s/step - loss: 0.1050 - accuracy: 0.8961 - val_loss: 0.0708 - val_accuracy: 0.9375\n",
      "Epoch 2/3\n",
      "326/326 [==============================] - 1913s 6s/step - loss: 0.0437 - accuracy: 0.9373 - val_loss: 0.0379 - val_accuracy: 1.0000\n",
      "Epoch 3/3\n",
      "326/326 [==============================] - 1889s 6s/step - loss: 0.0284 - accuracy: 0.9383 - val_loss: 0.1693 - val_accuracy: 0.8750\n",
      "39/39 [==============================] - 175s 4s/step - loss: 1.7125 - accuracy: 0.8093\n",
      "l a c 1.7125307321548462 & 0.8092948794364929\n"
     ]
    }
   ],
   "source": [
    "vgg_conv = vgg16_model(2)\n",
    "for layer in vgg_conv.layers[:-10]:\n",
    "    layer.trainable = False\n",
    "opt = Adam(lr=0.0001, decay=1e-5)\n",
    "vgg_conv.compile(loss='binary_crossentropy',\n",
    "                 metrics=['accuracy'],\n",
    "                 optimizer=opt, )\n",
    "history = vgg_conv.fit_generator(train_data_gen,\n",
    "                                 epochs=nb_epochs,\n",
    "                                 steps_per_epoch=nb_train_steps,\n",
    "                                 validation_data=(val_data, val_labels),\n",
    "                                 class_weight={0: 1.0, 1: 0.4})\n",
    "loss, acc = vgg_conv.evaluate(test_data, test_labels, batch_size=16)\n",
    "print('l a c', loss, '&', acc)"
   ]
  },
  {
   "cell_type": "code",
   "execution_count": 15,
   "id": "4f7bf3de-15bc-431d-bb5b-cff4a653f891",
   "metadata": {},
   "outputs": [],
   "source": [
    "# pred = vgg_conv.predict(train_data, batch_size=16)\n",
    "# pred = np.argmax(pred, axis=-1)\n",
    "\n",
    "labels = np.argmax(test_labels, axis=-1)"
   ]
  },
  {
   "cell_type": "code",
   "execution_count": 18,
   "id": "414de8d4-f784-4fe5-a819-a25db751eaa7",
   "metadata": {},
   "outputs": [
    {
     "ename": "NameError",
     "evalue": "name 'pred' is not defined",
     "output_type": "error",
     "traceback": [
      "\u001b[1;31m---------------------------------------------------------------------------\u001b[0m",
      "\u001b[1;31mNameError\u001b[0m                                 Traceback (most recent call last)",
      "Cell \u001b[1;32mIn[18], line 2\u001b[0m\n\u001b[0;32m      1\u001b[0m \u001b[38;5;28;01mfrom\u001b[39;00m \u001b[38;5;21;01msklearn\u001b[39;00m\u001b[38;5;21;01m.\u001b[39;00m\u001b[38;5;21;01mmetrics\u001b[39;00m \u001b[38;5;28;01mimport\u001b[39;00m classification_report\n\u001b[1;32m----> 2\u001b[0m \u001b[38;5;28mprint\u001b[39m(classification_report(labels, \u001b[43mpred\u001b[49m))\n",
      "\u001b[1;31mNameError\u001b[0m: name 'pred' is not defined"
     ]
    }
   ],
   "source": [
    "from sklearn.metrics import classification_report\n",
    "print(classification_report(labels, pred))"
   ]
  },
  {
   "cell_type": "code",
   "execution_count": null,
   "id": "e7730756-e355-4b77-8102-38089182c94e",
   "metadata": {},
   "outputs": [],
   "source": []
  }
 ],
 "metadata": {
  "kernelspec": {
   "display_name": "Python 3 (ipykernel)",
   "language": "python",
   "name": "python3"
  },
  "language_info": {
   "codemirror_mode": {
    "name": "ipython",
    "version": 3
   },
   "file_extension": ".py",
   "mimetype": "text/x-python",
   "name": "python",
   "nbconvert_exporter": "python",
   "pygments_lexer": "ipython3",
   "version": "3.9.13"
  }
 },
 "nbformat": 4,
 "nbformat_minor": 5
}
